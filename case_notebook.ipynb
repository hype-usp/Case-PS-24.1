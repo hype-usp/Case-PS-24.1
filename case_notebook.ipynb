{
 "cells": [
  {
   "cell_type": "markdown",
   "id": "eaa87105",
   "metadata": {},
   "source": [
    "<h2><b>Case Hype 2024_1</b></h2>\n",
    "<h3><b>Introdução</b></h3>\n",
    "<p> \n",
    "Os membros do grupo Hype estão sempre em busca de expandir seus horizontes. Cada integrante do grupo possui objetivos pessoais e profissionais únicos, mas todos compartilham o mesmo espírito de curiosidade e vontade de aprender.\n",
    "\n",
    "Nas reuniões regulares do grupo, cada membro compartilha suas metas e aspirações. Alguns estão focados em aprimorar suas habilidades técnicas, mergulhando a fundo em linguagens de programação ou explorando novas tecnologias emergentes. Outros estão mais interessados em desenvolver suas habilidades de liderança e comunicação, buscando oportunidades para assumir projetos desafiadores e trabalhar em equipe.\n",
    "\n",
    "Além dos objetivos individuais, os membros do grupo Hype também compartilham um objetivo comum: compreender melhor os dados relacionados aos salários dos profissionais de TI e as características que influenciam sua oscilação. Eles reconhecem a importância de entender como fatores como experiência profissional, modalidade de trabalho e tempo de empresa afetam os salários na indústria de tecnologia.\n",
    "\n",
    "Eles estão determinados a explorar os dados em profundidade, identificar padrões significativos e desenvolver modelos preditivos que possam fornecer orientação e clareza em um mercado de trabalho em constante evolução. \n",
    "</p>"
   ]
  },
  {
   "cell_type": "markdown",
   "id": "eb8ff8f4",
   "metadata": {},
   "source": [
    "<h3><b>Sobre o conjunto de dados</b></h3>\n",
    "\n",
    "<ol>\n",
    "    <li><b>pais:</b> País residente</li>\n",
    "    <li><b>continente:</b> Continente</li>\n",
    "    <li><b>idade:</b> Idade atual</li>\n",
    "    <li><b>faixa_idade:</b> Classificação de faixa etária</li>\n",
    "    <li><b>modalidade_exercicio:</b> Modalidade de exercício das atividades de TI</li>\n",
    "    <li><b>contrato_trabalho:</b> Contrato de trabalho, em relação ao período de trabalho</li>\n",
    "    <li><b>sou_estudante:</b> Se atualmente é estudante ou não</li>\n",
    "    <li><b>sou_aposentado:</b> Se está aposentado ou não</li>\n",
    "    <li><b>sou_freelancer:</b> Se atual como freelancer ou não</li>\n",
    "    <li><b>buscando_trabalho:</b> Se está buscando trabalho ou não</li>\n",
    "    <li><b>nivel_educacao:</b> Nível de escolaridade</li>\n",
    "    <li><b>intervalo_min_anos_exp_pessoal:</b> Intervalo mínimo de anos de contato/experiência total na área (não necessariamente profissional)</li>\n",
    "    <li><b>intervalo_max_anos_exp_pessoal:</b> Intervalo máximo de anos de contato/experiência total na área (não necessariamente profissional)</li>\n",
    "    <li><b>intervalo_min_anos_exp_profissional:</b> Intervalo mínimo de anos de experiência profissional total na área</li>\n",
    "    <li><b>intervalo_max_anos_exp_profissional:</b> Intervalo máximo de anos de experiência profissional total na área</li>\n",
    "    <li><b>anos_atividade_atual:</b> Anos de exerção da atividade atual (seja emprego, freelancer, etc.)</li>\n",
    "    <li><b>categoria_salario:</b> O salário representado em categorias</li>\n",
    "</ol>"
   ]
  },
  {
   "cell_type": "markdown",
   "id": "8a5ae116",
   "metadata": {},
   "source": [
    "<h3><b>Tarefas do Case</b></h3>\n",
    "\n",
    "<p>No geral, as tarefas se concentram no estudo e na compreensão dos dados, seja por meio de uma análise descritiva dos dados e na modelagem de um classificador para ser capaz de prever uma categoria de salário dado as características.</p>\n",
    "\n",
    "<p><b>As tarefas são dividas em 5 seções:</b></p>\n",
    "<ul>\n",
    "    <li><b>Descrição dos dados:</b> Responder algumas questões levantadas pelos membros do Hype. <b>(2,5)</b></li>\n",
    "    <li><b>Visualização dos dados:</b> Representação visual de algumas variáveis para facilitar o entedimento. <b>(1,5)</b></li>\n",
    "    <li><b>Processamento e transformação dos dados:</b> Algumas etapas que deverão preceder a etapa da modelagem. <b>(2,5)</b></li>\n",
    "    <li><b>Preparação dos dados e treinamento de um modelo classificador:</b> Treinamento de um modelo pré-implementado que classifica a faixa salarial. <b>(2,0)</b></li>\n",
    "    <li><b>Avaliação do modelo:</b> Calcular algumas métricas de avaliação no conjunto de teste. <b>(1,5)</b></li>\n",
    "</ul>\n",
    "\n",
    "<p><b>Editar somente onde estiver marcado como \"TODO\" na célula</b></p>"
   ]
  },
  {
   "cell_type": "markdown",
   "id": "3c82a2b7",
   "metadata": {},
   "source": [
    "<h3>Bibliotecas</h3> \n",
    "\n",
    "<p>Importação de bibliotecas que possivelmente serão utilizados ao longo do case</p>"
   ]
  },
  {
   "cell_type": "code",
   "execution_count": 54,
   "id": "88e85449",
   "metadata": {},
   "outputs": [],
   "source": [
    "import pandas as pd\n",
    "import numpy as np\n",
    "from matplotlib import pyplot as plt\n",
    "from sklearn.preprocessing import *\n",
    "from sklearn.model_selection import *\n",
    "from sklearn.tree import DecisionTreeClassifier\n",
    "from sklearn.ensemble import RandomForestClassifier\n",
    "from sklearn.metrics import confusion_matrix, classification_report\n",
    "\n",
    "# =========== TODO (opcional) ===========\n",
    "# insira outras bibliotecas caso seja necessário..."
   ]
  },
  {
   "cell_type": "markdown",
   "id": "9a93a938",
   "metadata": {},
   "source": [
    "<h3>Leitura dos dados</h3>"
   ]
  },
  {
   "cell_type": "code",
   "execution_count": 55,
   "id": "8b749a3d",
   "metadata": {},
   "outputs": [],
   "source": [
    "df = pd.read_parquet('dataset/final_case.parquet')"
   ]
  },
  {
   "cell_type": "code",
   "execution_count": 56,
   "id": "29e697fd",
   "metadata": {},
   "outputs": [
    {
     "data": {
      "text/html": [
       "<div>\n",
       "<style scoped>\n",
       "    .dataframe tbody tr th:only-of-type {\n",
       "        vertical-align: middle;\n",
       "    }\n",
       "\n",
       "    .dataframe tbody tr th {\n",
       "        vertical-align: top;\n",
       "    }\n",
       "\n",
       "    .dataframe thead th {\n",
       "        text-align: right;\n",
       "    }\n",
       "</style>\n",
       "<table border=\"1\" class=\"dataframe\">\n",
       "  <thead>\n",
       "    <tr style=\"text-align: right;\">\n",
       "      <th></th>\n",
       "      <th>pais</th>\n",
       "      <th>continente</th>\n",
       "      <th>idade</th>\n",
       "      <th>faixa_idade</th>\n",
       "      <th>modalidade_exercicio</th>\n",
       "      <th>contrato_trabalho</th>\n",
       "      <th>sou_estudante</th>\n",
       "      <th>sou_aposentado</th>\n",
       "      <th>sou_freelancer</th>\n",
       "      <th>buscando_trabalho</th>\n",
       "      <th>nivel_educacao</th>\n",
       "      <th>intervalo_min_anos_exp_pessoal</th>\n",
       "      <th>intervalo_max_anos_exp_pessoal</th>\n",
       "      <th>intervalo_min_anos_exp_profissional</th>\n",
       "      <th>intervalo_max_anos_exp_profissional</th>\n",
       "      <th>anos_atividade_atual</th>\n",
       "      <th>categoria_salario</th>\n",
       "    </tr>\n",
       "  </thead>\n",
       "  <tbody>\n",
       "    <tr>\n",
       "      <th>48059</th>\n",
       "      <td>USA</td>\n",
       "      <td>North America</td>\n",
       "      <td>46.0</td>\n",
       "      <td>Adults</td>\n",
       "      <td>Remote</td>\n",
       "      <td>Full-time</td>\n",
       "      <td>Nao</td>\n",
       "      <td>Nao</td>\n",
       "      <td>Nao</td>\n",
       "      <td>Nao</td>\n",
       "      <td>Masters</td>\n",
       "      <td>21.0</td>\n",
       "      <td>24.0</td>\n",
       "      <td>9.0</td>\n",
       "      <td>12.0</td>\n",
       "      <td>8.0</td>\n",
       "      <td>Very High</td>\n",
       "    </tr>\n",
       "    <tr>\n",
       "      <th>21116</th>\n",
       "      <td>Germany</td>\n",
       "      <td>Europe</td>\n",
       "      <td>26.0</td>\n",
       "      <td>Adults</td>\n",
       "      <td>Remote</td>\n",
       "      <td>Full-time</td>\n",
       "      <td>Nao</td>\n",
       "      <td>Nao</td>\n",
       "      <td>Nao</td>\n",
       "      <td>Nao</td>\n",
       "      <td>Associate</td>\n",
       "      <td>9.0</td>\n",
       "      <td>12.0</td>\n",
       "      <td>5.0</td>\n",
       "      <td>8.0</td>\n",
       "      <td>2.0</td>\n",
       "      <td>High</td>\n",
       "    </tr>\n",
       "    <tr>\n",
       "      <th>72012</th>\n",
       "      <td>Brazil</td>\n",
       "      <td>South America</td>\n",
       "      <td>34.0</td>\n",
       "      <td>Adults</td>\n",
       "      <td>In-person</td>\n",
       "      <td>Unemployed</td>\n",
       "      <td>Nao</td>\n",
       "      <td>Nao</td>\n",
       "      <td>Sim</td>\n",
       "      <td>Nao</td>\n",
       "      <td>Self-Study</td>\n",
       "      <td>13.0</td>\n",
       "      <td>16.0</td>\n",
       "      <td>5.0</td>\n",
       "      <td>8.0</td>\n",
       "      <td>5.0</td>\n",
       "      <td>Low</td>\n",
       "    </tr>\n",
       "    <tr>\n",
       "      <th>82824</th>\n",
       "      <td>USA</td>\n",
       "      <td>North America</td>\n",
       "      <td>27.0</td>\n",
       "      <td>Adults</td>\n",
       "      <td>Remote</td>\n",
       "      <td>Full-time</td>\n",
       "      <td>Nao</td>\n",
       "      <td>Nao</td>\n",
       "      <td>Nao</td>\n",
       "      <td>Nao</td>\n",
       "      <td>Self-Study</td>\n",
       "      <td>9.0</td>\n",
       "      <td>12.0</td>\n",
       "      <td>5.0</td>\n",
       "      <td>8.0</td>\n",
       "      <td>4.0</td>\n",
       "      <td>High</td>\n",
       "    </tr>\n",
       "    <tr>\n",
       "      <th>40295</th>\n",
       "      <td>Iran</td>\n",
       "      <td>Asia</td>\n",
       "      <td>34.0</td>\n",
       "      <td>Adults</td>\n",
       "      <td>In-person</td>\n",
       "      <td>Full-time</td>\n",
       "      <td>Nao</td>\n",
       "      <td>Nao</td>\n",
       "      <td>Nao</td>\n",
       "      <td>Nao</td>\n",
       "      <td>Bachelor</td>\n",
       "      <td>5.0</td>\n",
       "      <td>8.0</td>\n",
       "      <td>1.0</td>\n",
       "      <td>4.0</td>\n",
       "      <td>1.0</td>\n",
       "      <td>Low</td>\n",
       "    </tr>\n",
       "  </tbody>\n",
       "</table>\n",
       "</div>"
      ],
      "text/plain": [
       "          pais     continente  idade faixa_idade modalidade_exercicio  \\\n",
       "48059      USA  North America   46.0      Adults               Remote   \n",
       "21116  Germany         Europe   26.0      Adults               Remote   \n",
       "72012   Brazil  South America   34.0      Adults            In-person   \n",
       "82824      USA  North America   27.0      Adults               Remote   \n",
       "40295     Iran           Asia   34.0      Adults            In-person   \n",
       "\n",
       "      contrato_trabalho sou_estudante sou_aposentado sou_freelancer  \\\n",
       "48059         Full-time           Nao            Nao            Nao   \n",
       "21116         Full-time           Nao            Nao            Nao   \n",
       "72012        Unemployed           Nao            Nao            Sim   \n",
       "82824         Full-time           Nao            Nao            Nao   \n",
       "40295         Full-time           Nao            Nao            Nao   \n",
       "\n",
       "      buscando_trabalho nivel_educacao  intervalo_min_anos_exp_pessoal  \\\n",
       "48059               Nao        Masters                            21.0   \n",
       "21116               Nao      Associate                             9.0   \n",
       "72012               Nao     Self-Study                            13.0   \n",
       "82824               Nao     Self-Study                             9.0   \n",
       "40295               Nao       Bachelor                             5.0   \n",
       "\n",
       "       intervalo_max_anos_exp_pessoal  intervalo_min_anos_exp_profissional  \\\n",
       "48059                            24.0                                  9.0   \n",
       "21116                            12.0                                  5.0   \n",
       "72012                            16.0                                  5.0   \n",
       "82824                            12.0                                  5.0   \n",
       "40295                             8.0                                  1.0   \n",
       "\n",
       "       intervalo_max_anos_exp_profissional  anos_atividade_atual  \\\n",
       "48059                                 12.0                   8.0   \n",
       "21116                                  8.0                   2.0   \n",
       "72012                                  8.0                   5.0   \n",
       "82824                                  8.0                   4.0   \n",
       "40295                                  4.0                   1.0   \n",
       "\n",
       "      categoria_salario  \n",
       "48059         Very High  \n",
       "21116              High  \n",
       "72012               Low  \n",
       "82824              High  \n",
       "40295               Low  "
      ]
     },
     "execution_count": 56,
     "metadata": {},
     "output_type": "execute_result"
    }
   ],
   "source": [
    "df.sample(5)"
   ]
  },
  {
   "cell_type": "markdown",
   "id": "c9b99b22",
   "metadata": {},
   "source": [
    "<h3><b>Seção 1: Descrição dos dados (2,5)</b></h3>\n",
    "\n",
    "<p><b>Materiais de apoio: </b></p> \n",
    "<li>https://pandas.pydata.org/pandas-docs/stable/reference/api/pandas.Series.value_counts.html</li>\n",
    "<li>https://pandas.pydata.org/docs/reference/api/pandas.DataFrame.shape.html</li>\n",
    "<li>https://pandas.pydata.org/docs/reference/api/pandas.DataFrame.corr.html</li>\n",
    "<li>https://pandas.pydata.org/pandas-docs/stable/reference/api/pandas.DataFrame.describe.html</li>\n",
    "<li>https://pandas.pydata.org/pandas-docs/stable/reference/api/pandas.DataFrame.dtypes.html</li>"
   ]
  },
  {
   "cell_type": "markdown",
   "id": "0f358457",
   "metadata": {},
   "source": [
    "<h4><b>Seção 1.1: Mostre o tipo de cada uma das colunas (0,5)</b></h4>\n",
    "\n",
    "<p>É fundamental avaliar a corretude de tipagem das colunas de dados.</p>\n",
    "<p><b>Por exemplo: </b> Avaliar se a coluna de 'pais' é uma string (texto) e a 'idade' é um int (número inteiro). </p>"
   ]
  },
  {
   "cell_type": "code",
   "execution_count": 57,
   "id": "0a1f7e42",
   "metadata": {},
   "outputs": [],
   "source": [
    "# =========== TODO ===========\n",
    "\n"
   ]
  },
  {
   "cell_type": "markdown",
   "id": "da78bab0",
   "metadata": {},
   "source": [
    "<h4><b>Seção 1.2: Mostre a dimensão dos dados (0,5)</b></h4>\n",
    "\n",
    "<p>Mostrar a quantidade de linhas e colunas a base possui.</p>"
   ]
  },
  {
   "cell_type": "code",
   "execution_count": 58,
   "id": "ef7d3e7a",
   "metadata": {},
   "outputs": [],
   "source": [
    "# =========== TODO ===========\n",
    "\n"
   ]
  },
  {
   "cell_type": "markdown",
   "id": "034375f3",
   "metadata": {},
   "source": [
    "<h4><b>Seção 1.3: Análise descritiva das colunas numéricas (0,5)</b></h4>\n",
    "\n",
    "<p>Mostre algumas métricas gerais das colunas como a média, valor mínimo/máximo, contagem... (livre escolha)</p>"
   ]
  },
  {
   "cell_type": "code",
   "execution_count": 59,
   "id": "2ccb029a",
   "metadata": {},
   "outputs": [],
   "source": [
    "# =========== TODO ===========\n",
    "\n"
   ]
  },
  {
   "cell_type": "markdown",
   "id": "17279bb9",
   "metadata": {},
   "source": [
    "<h4><b>Seção 1.4: Quais são os países distintos da base e a sua contagem? (0,5)</b></h4>\n",
    "\n",
    "<p>A equipe precisa avaliar como está a distribuição dos países da base.</p>"
   ]
  },
  {
   "cell_type": "code",
   "execution_count": 60,
   "id": "74527251",
   "metadata": {},
   "outputs": [],
   "source": [
    "# =========== TODO ===========\n",
    "\n"
   ]
  },
  {
   "cell_type": "markdown",
   "id": "64b9d0a4",
   "metadata": {},
   "source": [
    "<h4><b>Seção 1.5: Qual é a correlação entre a idade e o intervalo mínimo de anos de experiência profissional? (0,5)</b></h4>\n",
    "\n",
    "<p>Colunas para analisar:</p>\n",
    "<li>idade</li>\n",
    "<li>intervalo_min_anos_exp_profissional</li>"
   ]
  },
  {
   "cell_type": "code",
   "execution_count": 61,
   "id": "bd74b9c7",
   "metadata": {},
   "outputs": [
    {
     "name": "stdout",
     "output_type": "stream",
     "text": [
      "A correlação entre idade e o intervalo_min_anos_exp_profissional é: None\n"
     ]
    }
   ],
   "source": [
    "# =========== TODO (Código) ===========\n",
    "\n",
    "\n",
    "\n",
    "# =========== TODO (Preencher a resposta substituindo o 'None') ===========\n",
    "correlacao = None \n",
    "print(f'A correlação entre idade e o intervalo_min_anos_exp_profissional é: {correlacao}')"
   ]
  },
  {
   "cell_type": "markdown",
   "id": "9a83c955",
   "metadata": {},
   "source": [
    "<h3><b>Seção 2: Visualização dos dados (1,5)</b></h3>\n",
    "\n",
    "<p><i>Observação: \"pyplot\" está importado como \"plt\"</i></p>\n",
    "\n",
    "<p><b>Materiais de apoio: </b></p> \n",
    "<li>https://mode.com/example-gallery/python_histogram</li>\n",
    "<li>https://pandas.pydata.org/pandas-docs/stable/reference/api/pandas.DataFrame.groupby.html</li>\n",
    "<li>https://www.tutorialspoint.com/python-plot-a-pie-chart-for-pandas-dataframe-with-matplotlib</li>\n",
    "<li>https://www.geeksforgeeks.org/ml-label-encoding-of-datasets-in-python/</li>"
   ]
  },
  {
   "cell_type": "code",
   "execution_count": 62,
   "id": "445baee0",
   "metadata": {},
   "outputs": [
    {
     "data": {
      "text/html": [
       "<div>\n",
       "<style scoped>\n",
       "    .dataframe tbody tr th:only-of-type {\n",
       "        vertical-align: middle;\n",
       "    }\n",
       "\n",
       "    .dataframe tbody tr th {\n",
       "        vertical-align: top;\n",
       "    }\n",
       "\n",
       "    .dataframe thead th {\n",
       "        text-align: right;\n",
       "    }\n",
       "</style>\n",
       "<table border=\"1\" class=\"dataframe\">\n",
       "  <thead>\n",
       "    <tr style=\"text-align: right;\">\n",
       "      <th></th>\n",
       "      <th>faixa_idade</th>\n",
       "      <th>contagem</th>\n",
       "    </tr>\n",
       "  </thead>\n",
       "  <tbody>\n",
       "    <tr>\n",
       "      <th>0</th>\n",
       "      <td>Adults</td>\n",
       "      <td>40826</td>\n",
       "    </tr>\n",
       "    <tr>\n",
       "      <th>1</th>\n",
       "      <td>Seniors</td>\n",
       "      <td>2111</td>\n",
       "    </tr>\n",
       "    <tr>\n",
       "      <th>2</th>\n",
       "      <td>Youth</td>\n",
       "      <td>4970</td>\n",
       "    </tr>\n",
       "  </tbody>\n",
       "</table>\n",
       "</div>"
      ],
      "text/plain": [
       "  faixa_idade  contagem\n",
       "0      Adults     40826\n",
       "1     Seniors      2111\n",
       "2       Youth      4970"
      ]
     },
     "execution_count": 62,
     "metadata": {},
     "output_type": "execute_result"
    }
   ],
   "source": [
    "# EXEMPLO DE AGRUPAMENTO DA COLUNA, USANDO FAIXA DE IDADE\n",
    "agrupado = df.groupby(by='faixa_idade').agg(contagem=('faixa_idade', 'count')).reset_index()\n",
    "agrupado"
   ]
  },
  {
   "cell_type": "markdown",
   "id": "e629ffee",
   "metadata": {},
   "source": [
    "<h4><b>Seção 2.1: Crie um gráfico de pizza da distribuição de nível de educação (0,75)</b></h4>\n",
    "\n",
    "<p>A equipe julgou que uma representação visual do gráfico de pizza seria o mais adequado.</p>\n",
    "<p><i>Sinta-se a vontade para personalizar da forma como preferir</i></p>"
   ]
  },
  {
   "cell_type": "code",
   "execution_count": 63,
   "id": "3ccb96e6",
   "metadata": {},
   "outputs": [],
   "source": [
    "# =========== TODO (Agrupamento) ===========\n",
    "\n"
   ]
  },
  {
   "cell_type": "code",
   "execution_count": 64,
   "id": "3d03427a",
   "metadata": {},
   "outputs": [],
   "source": [
    "# =========== TODO (Gráfico) ===========\n",
    "\n"
   ]
  },
  {
   "cell_type": "markdown",
   "id": "1815a9ce",
   "metadata": {},
   "source": [
    "<h4><b>Seção 2.2: Crie um histograma de idade (0,75)</b></h4>\n",
    "\n",
    "<p>A equipe necessita de um histograma para analisar como a idade está distribuída. Se possível, divida em 13 bins.</p>\n",
    "<p><i>Sinta-se a vontade para personalizar da forma como preferir</i></p>"
   ]
  },
  {
   "cell_type": "code",
   "execution_count": 65,
   "id": "df56a831",
   "metadata": {},
   "outputs": [],
   "source": [
    "# =========== TODO (Gráfico) ===========\n",
    "\n"
   ]
  },
  {
   "cell_type": "markdown",
   "id": "1215e769",
   "metadata": {},
   "source": [
    "<h3><b>Seção 3: Processamento e transformação dos dados (2,5)</b></h3>\n",
    "\n",
    "<p><i>Observação: Normalmente os dados nulos são representados como NaN</i></p>\n",
    "\n",
    "<p><b>Materiais de apoio: </b></p> \n",
    "<li>https://pandas.pydata.org/docs/dev/reference/api/pandas.DataFrame.isna.html</li>\n",
    "<li>https://saturncloud.io/blog/how-to-count-nan-values-in-a-pandas-dataframe-column/</li>\n",
    "<li>https://pandas.pydata.org/pandas-docs/stable/reference/api/pandas.DataFrame.dropna.html</li>\n",
    "<li>https://www.datacamp.com/tutorial/python-select-columns</li>\n",
    "<li>https://medium.com/codex/how-to-set-x-and-y-in-pandas-3f38584e9bed (abra na aba anônima)</li>\n",
    "<li>https://www.alura.com.br/artigos/get-dummies-vs-onehotencoder-qual-metodo-escolher</li>\n",
    "<li>https://www.c-sharpcorner.com/article/a-beginners-guide-to-one-hot-encoding-using-pandas-getdummies-method/</li>"
   ]
  },
  {
   "cell_type": "markdown",
   "id": "1bec37f0",
   "metadata": {},
   "source": [
    "<h4><b>Seção 3.1: Avalie integridade das colunas (0,5)</b></h4>\n",
    "\n",
    "<p>Sempre há a necessidade de avaliar se a base de dados não possui dados nulos/vazios.</p>"
   ]
  },
  {
   "cell_type": "code",
   "execution_count": 66,
   "id": "4c30c876",
   "metadata": {},
   "outputs": [],
   "source": [
    "# =========== TODO ===========\n",
    "\n"
   ]
  },
  {
   "cell_type": "markdown",
   "id": "5b2b036e",
   "metadata": {},
   "source": [
    "<h4><b>Seção 3.2: Drop (não considerar) das linhas onde contém células nulas (0,5)</b></h4>\n",
    "\n",
    "<p>A equipe decidiu que não deveríamos treinar o modelo com linhas onde há dado(s) inválido(s).</p>\n",
    "<p><i>Dica: Você pode executar a célula anterior para avaliar se o código está correto.</i></p>"
   ]
  },
  {
   "cell_type": "code",
   "execution_count": 67,
   "id": "f5046744",
   "metadata": {},
   "outputs": [],
   "source": [
    "# =========== TODO ===========\n",
    "\n"
   ]
  },
  {
   "cell_type": "markdown",
   "id": "98d1555d",
   "metadata": {},
   "source": [
    "<h4><b>Seção 3.3: Faça uma separação das características e a variável que desejamos prever (0,5)</b></h4>\n",
    "\n",
    "<p>A equipe precisa que você quebre os dados em 'X' e 'y'.</p>\n",
    "<p>Armazene como 'y' a coluna que desejamos prever (categoria_salario) e como 'X' as demais colunas.</p>"
   ]
  },
  {
   "cell_type": "code",
   "execution_count": 68,
   "id": "0ee92a92",
   "metadata": {},
   "outputs": [],
   "source": [
    "# =========== TODO ===========\n",
    "\n",
    "#X = ...\n",
    "#y = ..."
   ]
  },
  {
   "cell_type": "markdown",
   "id": "fe82d274",
   "metadata": {},
   "source": [
    "<h4><b>Seção 3.4: Aplique um label encoding da variável ('y') que desejamos prever (0,5)</b></h4>\n",
    "\n",
    "<p>Transforme a coluna categórica em numérica, representando as diferentes classes (categorias de salário)</p>\n",
    "<p><b>Exemplo:</b> 'Low' como 0, 'Mid' como 1...</p>"
   ]
  },
  {
   "cell_type": "code",
   "execution_count": 69,
   "id": "0edaff2f",
   "metadata": {},
   "outputs": [],
   "source": [
    "# =========== TODO ===========\n",
    "\n"
   ]
  },
  {
   "cell_type": "markdown",
   "id": "9d24c428",
   "metadata": {},
   "source": [
    "<h4><b>Seção 3.5: Aplique um one-hot-encoding das características ('X') categóricas (0,5)</b></h4>\n",
    "\n",
    "<p>Transforme as colunas categóricas em numérica por meio de one-hot-encoding.</p>"
   ]
  },
  {
   "cell_type": "code",
   "execution_count": 70,
   "id": "68f9ea9e",
   "metadata": {},
   "outputs": [],
   "source": [
    "# =========== TODO ===========\n",
    "\n"
   ]
  },
  {
   "cell_type": "markdown",
   "id": "3e4102a1",
   "metadata": {},
   "source": [
    "<h3><b>Seção 4: Preparação dos dados e treinamento de um modelo classificador (2,0)</b></h3>\n",
    "\n",
    "<p><b>Materiais de apoio: </b></p> \n",
    "<li>https://scikit-learn.org/stable/modules/generated/sklearn.model_selection.train_test_split.html</li>\n",
    "<li>https://scikit-learn.org/stable/modules/generated/sklearn.ensemble.RandomForestClassifier.html</li>\n",
    "<li>https://scikit-learn.org/stable/modules/generated/sklearn.tree.DecisionTreeClassifier.html</li>\n",
    "<li>https://machinelearningmastery.com/train-test-split-for-evaluating-machine-learning-algorithms/</li>"
   ]
  },
  {
   "cell_type": "code",
   "execution_count": 71,
   "id": "6f7975ce",
   "metadata": {},
   "outputs": [],
   "source": [
    "# # EXECUTE ESSA CÉLULA CASO NÃO TENHA CONCLUÍDO A SEÇÃO 3, PARA OBTER O 'X' E 'y'\n",
    "# X = pd.read_parquet('dataset/final_case_X.parquet')\n",
    "# y = pd.read_parquet('dataset/final_case_y.parquet').categoria_salario"
   ]
  },
  {
   "cell_type": "markdown",
   "id": "415bfb79",
   "metadata": {},
   "source": [
    "<h4><b>Seção 4.1: Faça a divisão dos dados de treinamento e teste (0,75)</b></h4>\n",
    "\n",
    "<p>Queremos testar como o modelo performa com os dados desconhecidos, portanto vamos separar uma parte dos dados para o teste!</p>\n",
    "<p>Depois de uma reunião, nós decidimos optar em dividir os dados para <b>80% de treinamento e 20% de teste.</b></p>"
   ]
  },
  {
   "cell_type": "code",
   "execution_count": 72,
   "id": "de919242",
   "metadata": {},
   "outputs": [],
   "source": [
    "# =========== TODO ===========\n",
    "\n"
   ]
  },
  {
   "cell_type": "markdown",
   "id": "416b42e9",
   "metadata": {},
   "source": [
    "<h4><b>Seção 4.2: Construa um classificador com os dados de treinamento (0,75)</b></h4>\n",
    "\n",
    "<p>A equipe precisa de um modelo para utilizar como um baseline, mesmo que seja com os parâmetros padrões. Para isso, crie uma instância de modelo e faça inicie um treinamento com os dados de treino.</p>\n",
    "<p><i>Fique à vontade para escolher o modelo que preferir, nós importamos o <b>RandomForestClassifier</b> e <b>DecisionTreeClassifier</b> como exemplos de uso.</i></p>"
   ]
  },
  {
   "cell_type": "code",
   "execution_count": 73,
   "id": "7365ca06",
   "metadata": {},
   "outputs": [],
   "source": [
    "# =========== TODO ===========\n",
    "\n"
   ]
  },
  {
   "cell_type": "markdown",
   "id": "55a303b2",
   "metadata": {},
   "source": [
    "<h4><b>Seção 4.3: Teste o modelo com os dados de teste (0,5)</b></h4>\n",
    "\n",
    "<p>Utilize os dados de teste que foram separados na seção 4.1, nós precisamos avaliar com os dados que não foram utilizados na seção 4.2!</p>\n",
    "<p>Armazene o retorno do modelo em uma variável.</p>"
   ]
  },
  {
   "cell_type": "code",
   "execution_count": 74,
   "id": "2f98c309",
   "metadata": {},
   "outputs": [],
   "source": [
    "# =========== TODO ===========\n",
    "\n"
   ]
  },
  {
   "cell_type": "markdown",
   "id": "ab06bc6e",
   "metadata": {},
   "source": [
    "<h4><b>Seção 4.1, 4.2 e 4.3: Faço o splitting dos dados, treine e teste um classificador (2,0)</b></h4>\n",
    "\n",
    "<p><b>Não precisa realizar esse TODO caso tenha feito as seções 4.1, 4.2 e 4.3 (OPCIONAL). Será considerado apenas a pontuação de uma delas.</b></p>\n",
    "<p>O time decidiu que você poderia desenvolver um modelo mais robusto, caso queira demonstrar suas habilidades!</p>\n",
    "<p>Sinta-se à vontade para treinar outros classificadores, aplicar técnicas de validações cruzadas, realizar o tuning de hiperparâmetros e entre outros!</p> "
   ]
  },
  {
   "cell_type": "code",
   "execution_count": 75,
   "id": "99fe3b60",
   "metadata": {},
   "outputs": [],
   "source": [
    "# =========== TODO ===========\n",
    "\n"
   ]
  },
  {
   "cell_type": "markdown",
   "id": "fb56ff7b",
   "metadata": {},
   "source": [
    "<h3><b>Seção 5: Avaliação do modelo (1,5)</b></h3>\n",
    "\n",
    "<p><b>Materiais de apoio: </b></p> \n",
    "<li>https://scikit-learn.org/stable/modules/generated/sklearn.metrics.confusion_matrix.html</li>\n",
    "<li>https://scikit-learn.org/stable/modules/generated/sklearn.metrics.classification_report.html</li>\n",
    "<li>https://scikit-learn.org/stable/modules/model_evaluation.html</li>"
   ]
  },
  {
   "cell_type": "code",
   "execution_count": 76,
   "id": "56e71e38",
   "metadata": {},
   "outputs": [],
   "source": [
    "# # EXECUTE ESSA CÉLULA CASO QUEIRA REALIZAR A SEÇÃO 5 MAS NÃO TENHA CONCLUÍDO A SEÇÃO 4, PARA OBTER UM EXEMPLO DE SAÍDA DA SEÇÃO 4.3\n",
    "# y_test = np.load('dataset/exemplo_y_test.npy')      # labels do y_test (real)\n",
    "# y_pred = np.load('dataset/exemplo_y_pred.npy')      # labels da saída do modelo (previsto)\n",
    "# labels = [1, 2, 0, 3]\n",
    "# target_names = ['Low', 'Mid', 'High', 'Very High']"
   ]
  },
  {
   "cell_type": "markdown",
   "id": "b49aa623",
   "metadata": {},
   "source": [
    "<h4><b>Seção 5.1: Faça uma avaliação da saída do modelo com os dados de teste (1,5)</b></h4>\n",
    "\n",
    "<p>Utilizem representações como matriz de confusão e principais métricas como acurácia, revocação, f1-score...</p>"
   ]
  },
  {
   "cell_type": "code",
   "execution_count": 77,
   "id": "a8dff03b",
   "metadata": {},
   "outputs": [],
   "source": [
    "# =========== TODO ===========\n",
    "\n"
   ]
  },
  {
   "cell_type": "code",
   "execution_count": null,
   "id": "1c39030b",
   "metadata": {},
   "outputs": [],
   "source": []
  }
 ],
 "metadata": {
  "kernelspec": {
   "display_name": "Python 3",
   "language": "python",
   "name": "python3"
  },
  "language_info": {
   "codemirror_mode": {
    "name": "ipython",
    "version": 3
   },
   "file_extension": ".py",
   "mimetype": "text/x-python",
   "name": "python",
   "nbconvert_exporter": "python",
   "pygments_lexer": "ipython3",
   "version": "3.11.1"
  }
 },
 "nbformat": 4,
 "nbformat_minor": 5
}
